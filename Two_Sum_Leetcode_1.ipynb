{
 "cells": [
  {
   "cell_type": "markdown",
   "id": "7f9ce027",
   "metadata": {},
   "source": [
    "![](2022-11-09-10-02-34.png)"
   ]
  },
  {
   "cell_type": "code",
   "execution_count": null,
   "id": "35de15b7",
   "metadata": {},
   "outputs": [],
   "source": []
  },
  {
   "cell_type": "code",
   "execution_count": 2,
   "id": "053cac6f",
   "metadata": {},
   "outputs": [
    {
     "name": "stdout",
     "output_type": "stream",
     "text": [
      "[0, 1]\n"
     ]
    }
   ],
   "source": [
    "#SOLUTION\n",
    "\n",
    "\n",
    "\n",
    "nums = [2,7,11,15]\n",
    "\n",
    "target = 9\n",
    "\n",
    "for counter, value in enumerate(nums):   #burda enumerate fonk ile hem indexi hemde value yi aldim\n",
    "    for counter2 , value2 in  enumerate(nums) :  #toplama yapacagim icin birer tane daha deger cagirdim,\n",
    "        if value + value2 == target  and counter < counter2: \n",
    "            print([counter , counter2])\n",
    "            \n",
    "            \n",
    "#kücüktür isaretini koymayinca iki cikti veriyor[0,1]ve[1,0], böyle yaptimki \n",
    "#for icinde for u sinirlandirmis oldum            "
   ]
  },
  {
   "cell_type": "code",
   "execution_count": 20,
   "id": "3acff540",
   "metadata": {},
   "outputs": [
    {
     "name": "stdout",
     "output_type": "stream",
     "text": [
      "15\n",
      "34\n",
      "5\n",
      "6\n",
      "4\n"
     ]
    }
   ],
   "source": [
    "nums = [2,7,11,15,34,5,6,4]\n",
    "\n",
    "for i in nums[3:]:\n",
    "    print(i)\n",
    "    \n"
   ]
  },
  {
   "cell_type": "code",
   "execution_count": 47,
   "id": "ca6234fd",
   "metadata": {},
   "outputs": [
    {
     "name": "stdout",
     "output_type": "stream",
     "text": [
      "[0, 1]\n",
      "1\n",
      "1\n"
     ]
    }
   ],
   "source": [
    "#2.WAY  baskasinin cözümü\n",
    "\n",
    "nums = [2,7,11,15]\n",
    "\n",
    "target = 9\n",
    "\n",
    "\n",
    "for i in nums:\n",
    "    if target-i in nums[nums.index(i)+1:]:\n",
    "        print([nums.index(i),nums.index(target-i,nums.index(i)+1)])\n",
    "        \n",
    "        \n",
    "        \n",
    "        #bu alttakiler ne cikti veriyorlar diye baktim,\n",
    "        print(nums.index(target-i))   \n",
    "        print(nums.index(7,1))\n",
    "        \n",
    "        \n",
    "        \n",
    "#if target-i in nums[nums.index(i)+1:]:#Bu güzel bir hamle i elemanin indexine 1 ekliyor ve sonundaki :  \n",
    "#ona o indexten sonrakileride sona kadar al diyor\n",
    "\n",
    "\n",
    "#print([nums.index(i),nums.index(target-i,nums.index(i)+1)])  \n",
    "#print(nums.index(target-i))    #targetli kisimda son kismini silsemde index fonktionu calisti"
   ]
  },
  {
   "cell_type": "code",
   "execution_count": 14,
   "id": "f252a418",
   "metadata": {},
   "outputs": [
    {
     "name": "stdout",
     "output_type": "stream",
     "text": [
      "[0, 0]\n"
     ]
    }
   ],
   "source": [
    "nums = [2,7,11,15]\n",
    "\n",
    "target = 4\n",
    "\n",
    "\n",
    "\n",
    "for i in nums:\n",
    "    if target-i in nums[nums.index(i):]:   #buraya yani index numarasina 1 eklemesi icin +1 yaziyorum\n",
    "        print([nums.index(i),nums.index(target-i)])\n",
    "\n",
    "        #bu sekilde eger 2 secersem yanlis olur cünkü soruda kendinden sonraki olmali"
   ]
  },
  {
   "cell_type": "code",
   "execution_count": 1,
   "id": "845b0928",
   "metadata": {},
   "outputs": [
    {
     "name": "stdout",
     "output_type": "stream",
     "text": [
      "0\n"
     ]
    }
   ],
   "source": [
    "nums = [2,7,11,15]\n",
    "\n",
    "print(nums.index(2))"
   ]
  },
  {
   "cell_type": "code",
   "execution_count": 2,
   "id": "3048c0d1",
   "metadata": {},
   "outputs": [
    {
     "name": "stdout",
     "output_type": "stream",
     "text": [
      "2\n",
      "7\n",
      "11\n",
      "15\n"
     ]
    }
   ],
   "source": [
    "nums = [2,7,11,15]\n",
    "for i in nums:\n",
    "    print(i)"
   ]
  },
  {
   "cell_type": "code",
   "execution_count": null,
   "id": "59d0cec9",
   "metadata": {},
   "outputs": [],
   "source": []
  }
 ],
 "metadata": {
  "kernelspec": {
   "display_name": "Python 3.10.7 64-bit",
   "language": "python",
   "name": "python3"
  },
  "language_info": {
   "codemirror_mode": {
    "name": "ipython",
    "version": 3
   },
   "file_extension": ".py",
   "mimetype": "text/x-python",
   "name": "python",
   "nbconvert_exporter": "python",
   "pygments_lexer": "ipython3",
   "version": "3.10.7"
  },
  "vscode": {
   "interpreter": {
    "hash": "aee8b7b246df8f9039afb4144a1f6fd8d2ca17a180786b69acc140d282b71a49"
   }
  }
 },
 "nbformat": 4,
 "nbformat_minor": 5
}
