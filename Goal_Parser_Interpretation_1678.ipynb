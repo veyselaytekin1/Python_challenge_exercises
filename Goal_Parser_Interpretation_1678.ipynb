{
 "cells": [
  {
   "cell_type": "code",
   "execution_count": null,
   "id": "01d207d9",
   "metadata": {},
   "outputs": [],
   "source": [
    "Goal_Parser_Interpretation_1678\n",
    "\n",
    "\n",
    "url: https://leetcode.com/problems/goal-parser-interpretation/\n",
    "\n",
    "\n",
    "You own a Goal Parser that can interpret a string command. The command consists of an alphabet of\n",
    "\"G\", \"()\" and/or \"(al)\" in some order. The Goal Parser will interpret \"G\" as the string \"G\",\n",
    "\"()\" as the string \"o\", and \"(al)\" as the string \"al\". The interpreted strings are then \n",
    "concatenated in the original order.\n",
    "\n",
    "Given the string command, return the Goal Parser's interpretation of command.\n",
    "\n",
    "\n",
    "\n",
    "-----\n",
    "Input: command = \"G()(al)\"\n",
    "Output: \"Goal\"\n",
    "Explanation: The Goal Parser interprets the command as follows:\n",
    "G -> G\n",
    "() -> o\n",
    "(al) -> al\n",
    "The final concatenated result is \"Goal\".\n",
    "\n",
    "\n",
    "-----------\n",
    "Input: command = \"G()()()()(al)\"\n",
    "Output: \"Gooooal\"\n",
    "    \n",
    "----------\n",
    "\n",
    "Constraints:\n",
    "\n",
    "1 <= command.length <= 100\n",
    "command consists of \"G\", \"()\", and/or \"(al)\" in some order.\n",
    "\n",
    "\n",
    "\n",
    "----------"
   ]
  },
  {
   "cell_type": "code",
   "execution_count": null,
   "id": "ed0d5f0e",
   "metadata": {},
   "outputs": [],
   "source": []
  },
  {
   "cell_type": "code",
   "execution_count": 43,
   "id": "85f4092d",
   "metadata": {},
   "outputs": [
    {
     "name": "stdout",
     "output_type": "stream",
     "text": [
      "Goal\n"
     ]
    }
   ],
   "source": [
    "1.way \n",
    "\n",
    "command = \"G()(al)\"\n",
    "\n",
    "command_count = 0\n",
    "\n",
    "for i in command:\n",
    "    command_count+=1\n",
    "\n",
    "\n",
    "if 1 <= command_count<= 100:\n",
    "    command_new = command.replace('()' , 'o')\n",
    "    command_new = command_new.replace('(al)' , 'al')\n",
    "    print(command_new)\n",
    "\n"
   ]
  },
  {
   "cell_type": "code",
   "execution_count": null,
   "id": "2daa43b8",
   "metadata": {},
   "outputs": [],
   "source": []
  },
  {
   "cell_type": "code",
   "execution_count": null,
   "id": "aaf624cb",
   "metadata": {},
   "outputs": [],
   "source": []
  }
 ],
 "metadata": {
  "kernelspec": {
   "display_name": "Python 3 (ipykernel)",
   "language": "python",
   "name": "python3"
  },
  "language_info": {
   "codemirror_mode": {
    "name": "ipython",
    "version": 3
   },
   "file_extension": ".py",
   "mimetype": "text/x-python",
   "name": "python",
   "nbconvert_exporter": "python",
   "pygments_lexer": "ipython3",
   "version": "3.9.12"
  }
 },
 "nbformat": 4,
 "nbformat_minor": 5
}
