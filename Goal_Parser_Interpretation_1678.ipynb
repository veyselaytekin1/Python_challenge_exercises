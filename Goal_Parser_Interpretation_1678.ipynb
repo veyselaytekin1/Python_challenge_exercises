{
 "cells": [
  {
   "cell_type": "code",
   "execution_count": null,
   "id": "2edb9e41",
   "metadata": {},
   "outputs": [],
   "source": [
    "Goal_Parser_Interpretation_1678\n",
    "\n",
    "\n",
    "You own a Goal Parser that can interpret a string command. The command consists of an alphabet of\n",
    "\"G\", \"()\" and/or \"(al)\" in some order. The Goal Parser will interpret \"G\" as the string \"G\",\n",
    "\"()\" as the string \"o\", and \"(al)\" as the string \"al\". The interpreted strings are then \n",
    "concatenated in the original order.\n",
    "\n",
    "Given the string command, return the Goal Parser's interpretation of command.\n",
    "\n",
    "\n",
    "\n",
    "-----\n",
    "Input: command = \"G()(al)\"\n",
    "Output: \"Goal\"\n",
    "Explanation: The Goal Parser interprets the command as follows:\n",
    "G -> G\n",
    "() -> o\n",
    "(al) -> al\n",
    "The final concatenated result is \"Goal\".\n",
    "\n",
    "\n",
    "-----------\n",
    "Input: command = \"G()()()()(al)\"\n",
    "Output: \"Gooooal\"\n",
    "    \n",
    "----------\n",
    "\n",
    "Constraints:\n",
    "\n",
    "1 <= command.length <= 100\n",
    "command consists of \"G\", \"()\", and/or \"(al)\" in some order.\n",
    "\n",
    "\n",
    "\n",
    "----------"
   ]
  },
  {
   "cell_type": "code",
   "execution_count": null,
   "id": "337d8020",
   "metadata": {},
   "outputs": [],
   "source": []
  },
  {
   "cell_type": "code",
   "execution_count": 43,
   "id": "23baf489",
   "metadata": {},
   "outputs": [
    {
     "name": "stdout",
     "output_type": "stream",
     "text": [
      "Goal\n"
     ]
    }
   ],
   "source": [
    "command = \"G()(al)\"\n",
    "\n",
    "command_count = 0\n",
    "\n",
    "for i in command:\n",
    "    command_count+=1\n",
    "\n",
    "\n",
    "if 1 <= command_count<= 100:\n",
    "    command_new = command.replace('()' , 'o')\n",
    "    command_new = command_new.replace('(al)' , 'al')\n",
    "    print(command_new)\n",
    "\n"
   ]
  },
  {
   "cell_type": "code",
   "execution_count": 47,
   "id": "b3b43d48",
   "metadata": {},
   "outputs": [
    {
     "name": "stdout",
     "output_type": "stream",
     "text": [
      "no\n"
     ]
    }
   ],
   "source": []
  },
  {
   "cell_type": "code",
   "execution_count": null,
   "id": "972e8b49",
   "metadata": {},
   "outputs": [],
   "source": []
  },
  {
   "cell_type": "code",
   "execution_count": null,
   "id": "56b01019",
   "metadata": {},
   "outputs": [],
   "source": []
  }
 ],
 "metadata": {
  "kernelspec": {
   "display_name": "Python 3 (ipykernel)",
   "language": "python",
   "name": "python3"
  },
  "language_info": {
   "codemirror_mode": {
    "name": "ipython",
    "version": 3
   },
   "file_extension": ".py",
   "mimetype": "text/x-python",
   "name": "python",
   "nbconvert_exporter": "python",
   "pygments_lexer": "ipython3",
   "version": "3.9.12"
  }
 },
 "nbformat": 4,
 "nbformat_minor": 5
}
