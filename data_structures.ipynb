{
 "cells": [
  {
   "cell_type": "markdown",
   "metadata": {},
   "source": [
    "Find the duplicated number"
   ]
  },
  {
   "cell_type": "code",
   "execution_count": 11,
   "metadata": {},
   "outputs": [
    {
     "name": "stdout",
     "output_type": "stream",
     "text": [
      "3 has a duplicated number\n",
      "6 has a duplicated number\n",
      "5 has a duplicated number\n"
     ]
    }
   ],
   "source": [
    "number = [3,6,2,5,4,3,6,8,9,5]\n",
    "\n",
    "for i in range(len(number) -1):  # we don't need to get the last value because of that we let -1 without the last value\n",
    "    for j in range(i+1, len(number)):\n",
    "        if number[i] == number[j]:\n",
    "            print(str(number[i]) + ' has a duplicated number')"
   ]
  },
  {
   "cell_type": "markdown",
   "metadata": {},
   "source": [
    "-----------------"
   ]
  },
  {
   "cell_type": "markdown",
   "metadata": {},
   "source": [
    "Search for 68"
   ]
  },
  {
   "cell_type": "code",
   "execution_count": 31,
   "metadata": {},
   "outputs": [],
   "source": [
    "number = [4,9,15,21,34,57,68,91,92]\n",
    "find = 68"
   ]
  },
  {
   "cell_type": "code",
   "execution_count": 30,
   "metadata": {},
   "outputs": [
    {
     "name": "stdout",
     "output_type": "stream",
     "text": [
      "I found the 68 with 7 loops\n"
     ]
    }
   ],
   "source": [
    "# 1.way:\n",
    "loop = 0\n",
    "for i in number:\n",
    "    loop +=1\n",
    "    if i == find:\n",
    "        print(f'I found the {find} with {loop} loops')"
   ]
  },
  {
   "cell_type": "code",
   "execution_count": 35,
   "metadata": {},
   "outputs": [
    {
     "name": "stdout",
     "output_type": "stream",
     "text": [
      "0\n",
      "1\n",
      "2\n",
      "3\n"
     ]
    }
   ],
   "source": [
    "# 2.way:\n",
    "n = len(number)\n",
    "for i in range(len(number)//2):\n",
    "    if number[n//2] < find:\n",
    "        number = number[n//2:]\n",
    "    else:\n",
    "        number = number[:n//2]\n",
    "    "
   ]
  },
  {
   "cell_type": "code",
   "execution_count": 36,
   "metadata": {},
   "outputs": [
    {
     "name": "stdout",
     "output_type": "stream",
     "text": [
      "Liste: [4, 9, 15, 21, 34, 57, 68, 91, 92]\n",
      "Ortanca Değer: 34\n",
      "Hedef Sayı (68) Index: 6\n"
     ]
    }
   ],
   "source": [
    "def find_median(lst):\n",
    "    lst.sort()  # Listeyi sırala\n",
    "    n = len(lst)\n",
    "    \n",
    "    if n % 2 == 1:\n",
    "        # Tek sayıda eleman varsa\n",
    "        median_index = n // 2\n",
    "        median_value = lst[median_index]\n",
    "    else:\n",
    "        # Çift sayıda eleman varsa\n",
    "        upper_median_index = n // 2\n",
    "        lower_median_index = upper_median_index - 1\n",
    "        median_value = (lst[lower_median_index] + lst[upper_median_index]) / 2\n",
    "\n",
    "    return median_value\n",
    "\n",
    "def find_number_index(lst, target):\n",
    "    if target in lst:\n",
    "        return lst.index(target)\n",
    "    else:\n",
    "        return None\n",
    "\n",
    "# Örnek kullanım\n",
    "numbers = [4, 9, 15, 21, 34, 57, 68, 91, 92]\n",
    "target_number = 68\n",
    "\n",
    "median_value = find_median(numbers)\n",
    "target_index = find_number_index(numbers, target_number)\n",
    "\n",
    "print(f\"Liste: {numbers}\")\n",
    "print(f\"Ortanca Değer: {median_value}\")\n",
    "print(f\"Hedef Sayı ({target_number}) Index: {target_index}\")\n"
   ]
  },
  {
   "cell_type": "code",
   "execution_count": null,
   "metadata": {},
   "outputs": [],
   "source": []
  }
 ],
 "metadata": {
  "kernelspec": {
   "display_name": "Python 3.9.18 ('base')",
   "language": "python",
   "name": "python3"
  },
  "language_info": {
   "codemirror_mode": {
    "name": "ipython",
    "version": 3
   },
   "file_extension": ".py",
   "mimetype": "text/x-python",
   "name": "python",
   "nbconvert_exporter": "python",
   "pygments_lexer": "ipython3",
   "version": "3.9.18"
  },
  "orig_nbformat": 4,
  "vscode": {
   "interpreter": {
    "hash": "f7c19a79b9aeb8b1cc18eda6778f62d726c8b19540b84d23ad80114035b2e0b4"
   }
  }
 },
 "nbformat": 4,
 "nbformat_minor": 2
}
