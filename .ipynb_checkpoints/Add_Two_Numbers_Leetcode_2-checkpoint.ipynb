{
 "cells": [
  {
   "cell_type": "code",
   "execution_count": null,
   "id": "466d6dd9",
   "metadata": {},
   "outputs": [],
   "source": [
    "#Question  Add Two Numbers\n",
    "#You are given two non-empty linked lists representing two non-negative integers. \n",
    "#The digits are stored in reverse order, and each of their nodes contains a single digit. \n",
    "#Add the two numbers and return the sum as a linked list.\n",
    "#You may assume the two numbers do not contain any leading zero, except the number 0 itself.\n",
    "\n",
    "\n",
    "\n",
    "#Input: l1 = [2,4,3], l2 = [5,6,4]\n",
    "#Output: [7,0,8]\n",
    "#Explanation: 342 + 465 = 807.\n",
    "\n",
    "#https://leetcode.com/problems/add-two-numbers/"
   ]
  },
  {
   "cell_type": "code",
   "execution_count": 35,
   "id": "ba29d77e",
   "metadata": {},
   "outputs": [
    {
     "ename": "IndexError",
     "evalue": "list index out of range",
     "output_type": "error",
     "traceback": [
      "\u001b[0;31m---------------------------------------------------------------------------\u001b[0m",
      "\u001b[0;31mIndexError\u001b[0m                                Traceback (most recent call last)",
      "Input \u001b[0;32mIn [35]\u001b[0m, in \u001b[0;36m<cell line: 8>\u001b[0;34m()\u001b[0m\n\u001b[1;32m     12\u001b[0m output\u001b[38;5;241m.\u001b[39mappend(new_value)\n\u001b[1;32m     13\u001b[0m \u001b[38;5;28;01mif\u001b[39;00m new_value \u001b[38;5;241m>\u001b[39m\u001b[38;5;241m=\u001b[39m \u001b[38;5;241m10\u001b[39m:\n\u001b[0;32m---> 14\u001b[0m     output[output\u001b[38;5;241m.\u001b[39mindex(new_value) \u001b[38;5;241m+\u001b[39m \u001b[38;5;241m1\u001b[39m] \u001b[38;5;241m+\u001b[39m\u001b[38;5;241m=\u001b[39m \u001b[38;5;241m1\u001b[39m  \u001b[38;5;66;03m#bunu bir sonraki elemana bir eklemek icin yapiyorum\u001b[39;00m\n\u001b[1;32m     15\u001b[0m     new_value \u001b[38;5;241m=\u001b[39m new_value \u001b[38;5;241m-\u001b[39m\u001b[38;5;241m10\u001b[39m\n\u001b[1;32m     17\u001b[0m       \u001b[38;5;66;03m#bunu en icteki if te birakmistim ,ama bu seferde sadece >= olanlari ekledi\u001b[39;00m\n",
      "\u001b[0;31mIndexError\u001b[0m: list index out of range"
     ]
    }
   ],
   "source": [
    "#Solituon\n",
    "l1 = [2,4,3]\n",
    "l2 = [5,6,4]\n",
    "\n",
    "output = []\n",
    "output1 = []\n",
    "\n",
    "for index1, value1 in enumerate(l1):\n",
    "    for index2, value2 in enumerate(l2):\n",
    "        if index1 == index2:\n",
    "            new_value = value1 + value2\n",
    "            output.append(new_value)\n",
    "            if new_value >= 10:\n",
    "                output[output.index(new_value) + 1] += 1  #bunu bir sonraki elemana bir eklemek icin yapiyorum\n",
    "                new_value = new_value -10\n",
    "                \n",
    "                  #bunu en icteki if te birakmistim ,ama bu seferde sadece >= olanlari ekledi\n",
    "                \n",
    "                \n",
    "            \n",
    "            \n",
    "                    \n",
    "                    \n",
    "                  \n",
    "                \n",
    "print(output)\n",
    "\n",
    "\n",
    "\n",
    "                \n",
    "                    \n",
    "            \n",
    "https://leetcode.com/problems/add-two-numbers/discuss/2435460/100-Simple-Explanation\n",
    "    \n",
    "    \n",
    "        \n",
    "    "
   ]
  },
  {
   "cell_type": "code",
   "execution_count": null,
   "id": "6586db5b",
   "metadata": {},
   "outputs": [],
   "source": []
  }
 ],
 "metadata": {
  "kernelspec": {
   "display_name": "Python 3 (ipykernel)",
   "language": "python",
   "name": "python3"
  },
  "language_info": {
   "codemirror_mode": {
    "name": "ipython",
    "version": 3
   },
   "file_extension": ".py",
   "mimetype": "text/x-python",
   "name": "python",
   "nbconvert_exporter": "python",
   "pygments_lexer": "ipython3",
   "version": "3.9.12"
  }
 },
 "nbformat": 4,
 "nbformat_minor": 5
}
