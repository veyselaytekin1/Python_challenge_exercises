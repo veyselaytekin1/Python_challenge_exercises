{
 "cells": [
  {
   "cell_type": "code",
   "execution_count": null,
   "id": "8999714a",
   "metadata": {},
   "outputs": [],
   "source": [
    "#Given an array of integers nums and an integer target,\n",
    "#return indices of the two numbers such that they add up to target.\n",
    "#You may assume that each input would have exactly one solution, and you may not use the same element twice.\n",
    "#You can return the answer in any order.\n",
    "\n",
    "\n",
    "#Input: nums = [2,7,11,15], target = 9\n",
    "#Output: [0,1]\n",
    "#Explanation: Because nums[0] + nums[1] == 9, we return [0, 1].\n",
    "\n",
    "\n",
    "#https://leetcode.com/problems/two-sum/"
   ]
  },
  {
   "cell_type": "code",
   "execution_count": null,
   "id": "485649d0",
   "metadata": {},
   "outputs": [],
   "source": []
  },
  {
   "cell_type": "code",
   "execution_count": 28,
   "id": "73c8f4c5",
   "metadata": {},
   "outputs": [
    {
     "name": "stdout",
     "output_type": "stream",
     "text": [
      "[0, 1]\n"
     ]
    }
   ],
   "source": [
    "#SOLUTION\n",
    "\n",
    "\n",
    "\n",
    "nums = [2,7,11,15]\n",
    "\n",
    "target = 9\n",
    "\n",
    "for counter, value in enumerate(nums):   #burda enumerate fonk ile hem indexi hemde value yi aldim\n",
    "    for counter2 , value2 in  enumerate(nums) :  #toplama yapacagim icin birer tane daha deger cagirdim,\n",
    "        if value + value2 == target  and counter < counter2: \n",
    "            print([counter , counter2])\n",
    "            \n",
    "            \n",
    "#kücüktür isaretini koymayinca iki cikti veriyor[0,1]ve[1,0], böyle yaptimki \n",
    "#for icinde for u sinirlandirmis oldum            "
   ]
  },
  {
   "cell_type": "code",
   "execution_count": 20,
   "id": "88deb480",
   "metadata": {},
   "outputs": [
    {
     "name": "stdout",
     "output_type": "stream",
     "text": [
      "15\n",
      "34\n",
      "5\n",
      "6\n",
      "4\n"
     ]
    }
   ],
   "source": [
    "nums = [2,7,11,15,34,5,6,4]\n",
    "\n",
    "for i in nums[3:]:\n",
    "    print(i)\n",
    "    \n"
   ]
  },
  {
   "cell_type": "code",
   "execution_count": null,
   "id": "489793f1",
   "metadata": {},
   "outputs": [],
   "source": []
  }
 ],
 "metadata": {
  "kernelspec": {
   "display_name": "Python 3 (ipykernel)",
   "language": "python",
   "name": "python3"
  },
  "language_info": {
   "codemirror_mode": {
    "name": "ipython",
    "version": 3
   },
   "file_extension": ".py",
   "mimetype": "text/x-python",
   "name": "python",
   "nbconvert_exporter": "python",
   "pygments_lexer": "ipython3",
   "version": "3.9.12"
  }
 },
 "nbformat": 4,
 "nbformat_minor": 5
}
