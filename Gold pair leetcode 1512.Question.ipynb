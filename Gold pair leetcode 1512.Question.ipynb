{
 "cells": [
  {
   "cell_type": "code",
   "execution_count": null,
   "id": "234bb73e",
   "metadata": {},
   "outputs": [],
   "source": [
    "Question no----->.   Gold pair leetcode 1512.Question\n",
    "\n",
    "Given an array of integers nums, return the number of good pairs.\n",
    "\n",
    "A pair (i, j) is called good if nums[i] == nums[j] and i < j\n",
    "\n",
    "------\n",
    "Input: nums = [1,2,3,1,1,3]\n",
    "Output: 4\n",
    "Explanation: There are 4 good pairs (0,3), (0,4), (3,4), (2,5) 0-indexed.\n",
    "    \n",
    "--------\n",
    "Input: nums = [1,1,1,1]\n",
    "Output: 6\n",
    "Explanation: Each pair in the array are good.\n",
    "    \n",
    "--------\n",
    "\n",
    "1 <= nums.length <= 100\n",
    "1 <= nums[i] <= 100\n",
    "\n",
    "-----"
   ]
  },
  {
   "cell_type": "code",
   "execution_count": 36,
   "id": "9207c652",
   "metadata": {},
   "outputs": [
    {
     "name": "stdout",
     "output_type": "stream",
     "text": [
      "(0,3)\n",
      "(0,4)\n",
      "(2,5)\n",
      "(3,4)\n",
      "\n",
      "Output : 4\n"
     ]
    }
   ],
   "source": [
    "#SOLITION of EXERCISE\n",
    "\n",
    "#1.WAY\n",
    "\n",
    "\n",
    "nums= [1,2,3,1,1,3]  #Given nums\n",
    "\n",
    "n = 0   #to count the output\n",
    " \n",
    "for i in range(len(nums)):\n",
    "    for j in range(len(nums)):\n",
    "        if nums[i] == nums[j] and i<j:\n",
    "            print(f'({i},{j})')\n",
    "            n+=1\n",
    "print()            \n",
    "print(f'Output : {n}')    \n",
    "    "
   ]
  },
  {
   "cell_type": "code",
   "execution_count": 33,
   "id": "0df6b979",
   "metadata": {},
   "outputs": [
    {
     "name": "stdout",
     "output_type": "stream",
     "text": [
      "\n",
      "Output : 36\n"
     ]
    }
   ],
   "source": [
    "#extra info .I did examine ,which way is better\n",
    "\n",
    "nums= [1,2,3,1,1,3]  #Given nums\n",
    "\n",
    "n = 0   #to count the output\n",
    " \n",
    "for i in range(len(nums)):\n",
    "    for j in range(len(nums)):\n",
    "        #if nums[i] == nums[j] and i<j:\n",
    "            #print(i,j)\n",
    "            n+=1\n",
    "print()            \n",
    "print(f'Output : {n}')\n",
    "\n",
    "#bu benim yazdigim döngüydü,iki tane ici ice for döngüsü koydum ki,\n",
    "#en bastaki q,sirasiyla tüm sayilarla eslessin diye, mesela\n",
    "#ilk for'da a aliniyor,ve alininca islem olmadan hemen ikinci for'a geciliyor,\n",
    "#o ilk forda alinan 1 ikinci for'da tüm elemanlarla print(i,j) sayesinde eslesiyor, ve 1 in\n",
    "#isi bittkten sonra ilk for'da 2 aliniyor ve tüm islemler bir daha oluyor, burda (1,2) olunca sonra \n",
    "#(2,1) de oluyor ve bosa hamle yapilmis oluyor ve hamle sayisini saydim,36 cikti ama asagida 15 cikti\n",
    "\n",
    "\n",
    "#ama asagida enumerate for e in nums[1:]: print(e) seklinde bir döngü koyunca \n",
    "# nums[1:] icindeki iki nokta isareti 1 den sonrakileri aliyor,ve sen bir n+=1\n",
    "#gibi bisey yaparsan her adimda biraz daha eksik alacak,cünkü almaya bastan baslamayacak\n",
    "# kaldigi yerden baslayacak\n",
    "# for e in nums[1]: tabi buraya 1 degilde bir degisken koymaliyiz,asagidaki gibi enumerate yöntemindeki gibi"
   ]
  },
  {
   "cell_type": "code",
   "execution_count": 18,
   "id": "82a2391d",
   "metadata": {},
   "outputs": [
    {
     "name": "stdout",
     "output_type": "stream",
     "text": [
      "1 1\n",
      "1 2\n",
      "1 3\n",
      "1 1\n",
      "1 1\n",
      "1 3\n",
      "2 1\n",
      "2 2\n",
      "2 3\n",
      "2 1\n",
      "2 1\n",
      "2 3\n",
      "3 1\n",
      "3 2\n",
      "3 3\n",
      "3 1\n",
      "3 1\n",
      "3 3\n",
      "1 1\n",
      "1 2\n",
      "1 3\n",
      "1 1\n",
      "1 1\n",
      "1 3\n",
      "1 1\n",
      "1 2\n",
      "1 3\n",
      "1 1\n",
      "1 1\n",
      "1 3\n",
      "3 1\n",
      "3 2\n",
      "3 3\n",
      "3 1\n",
      "3 1\n",
      "3 3\n"
     ]
    }
   ],
   "source": [
    "#extra info \n",
    "\n",
    "for i in nums:\n",
    "    for j in nums:\n",
    "        print(i,j)\n",
    "        \n",
    "        \n",
    "#loop in loop works so        "
   ]
  },
  {
   "cell_type": "code",
   "execution_count": 20,
   "id": "8c5696ea",
   "metadata": {},
   "outputs": [
    {
     "name": "stdout",
     "output_type": "stream",
     "text": [
      "0 1\n",
      "1 2\n",
      "2 3\n",
      "3 1\n",
      "4 1\n",
      "5 3\n"
     ]
    }
   ],
   "source": [
    "nums= [1,2,3,1,1,3] \n",
    "\n",
    "\n",
    "for i, j in enumerate(nums):\n",
    "    print(i,j)\n",
    "    \n",
    "    \n",
    "#enumerate fonktionu her indexi kendi elemaniyla beraber getiriyor,  "
   ]
  },
  {
   "cell_type": "code",
   "execution_count": 40,
   "id": "e01b080c",
   "metadata": {},
   "outputs": [
    {
     "name": "stdout",
     "output_type": "stream",
     "text": [
      "1\n",
      "2\n",
      "3\n",
      "1\n",
      "ali\n",
      "3\n"
     ]
    }
   ],
   "source": [
    "nums= [1,2,3,1,'ali',3] \n",
    "for e in nums[0:]:\n",
    "    print(e)\n",
    "    \n",
    "    \n",
    "#bu for döngüsünü cok begendim, belli bir yerden sonrasini yazdiriyor"
   ]
  },
  {
   "cell_type": "code",
   "execution_count": null,
   "id": "3b3d2bfa",
   "metadata": {},
   "outputs": [],
   "source": []
  },
  {
   "cell_type": "code",
   "execution_count": 42,
   "id": "30e1e642",
   "metadata": {},
   "outputs": [
    {
     "name": "stdout",
     "output_type": "stream",
     "text": [
      "4\n"
     ]
    }
   ],
   "source": [
    "#2.WAY   with enumerate fonction\n",
    "\n",
    "nums= [1,2,3,1,1,3]\n",
    "\n",
    "n = 0\n",
    "\n",
    "for counter, value in enumerate(nums):\n",
    "    for x in nums[counter+1 :]:\n",
    "        if x == value:\n",
    "            n+=1\n",
    "print(n)             \n",
    "\n"
   ]
  },
  {
   "cell_type": "code",
   "execution_count": null,
   "id": "f0892b56",
   "metadata": {},
   "outputs": [],
   "source": []
  },
  {
   "cell_type": "code",
   "execution_count": null,
   "id": "853510e4",
   "metadata": {},
   "outputs": [],
   "source": []
  },
  {
   "cell_type": "code",
   "execution_count": 41,
   "id": "98b699af",
   "metadata": {},
   "outputs": [
    {
     "name": "stdout",
     "output_type": "stream",
     "text": [
      "15\n"
     ]
    }
   ],
   "source": [
    "#yukardaki döngüm 36 cikmisti,burda [num:] sayesinde 15 cikti\n",
    "\n",
    "nums= [1,2,3,1,1,3]\n",
    "\n",
    "n = 0\n",
    "\n",
    "for counter, value in enumerate(nums):\n",
    "    for x in nums[counter+1 :]:\n",
    "        #if x == value:\n",
    "            n+=1\n",
    "print(n) "
   ]
  },
  {
   "cell_type": "code",
   "execution_count": null,
   "id": "bcbdb73e",
   "metadata": {},
   "outputs": [],
   "source": []
  }
 ],
 "metadata": {
  "kernelspec": {
   "display_name": "Python 3 (ipykernel)",
   "language": "python",
   "name": "python3"
  },
  "language_info": {
   "codemirror_mode": {
    "name": "ipython",
    "version": 3
   },
   "file_extension": ".py",
   "mimetype": "text/x-python",
   "name": "python",
   "nbconvert_exporter": "python",
   "pygments_lexer": "ipython3",
   "version": "3.9.12"
  }
 },
 "nbformat": 4,
 "nbformat_minor": 5
}
