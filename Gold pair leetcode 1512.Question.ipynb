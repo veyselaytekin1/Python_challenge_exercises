{
 "cells": [
  {
   "cell_type": "markdown",
   "id": "e5194d12",
   "metadata": {},
   "source": [
    "![](2022-11-09-11-26-28.png)"
   ]
  },
  {
   "cell_type": "code",
   "execution_count": 36,
   "id": "9fc5b9a0",
   "metadata": {},
   "outputs": [
    {
     "name": "stdout",
     "output_type": "stream",
     "text": [
      "(0,3)\n",
      "(0,4)\n",
      "(2,5)\n",
      "(3,4)\n",
      "\n",
      "Output : 4\n"
     ]
    }
   ],
   "source": [
    "#SOLITION of EXERCISE\n",
    "\n",
    "#1.WAY\n",
    "\n",
    "\n",
    "nums= [1,2,3,1,1,3]  #Given nums\n",
    "\n",
    "n = 0   #to count the output\n",
    " \n",
    "for i in range(len(nums)):\n",
    "    for j in range(len(nums)):\n",
    "        if nums[i] == nums[j] and i<j:\n",
    "            print(f'({i},{j})')\n",
    "            n+=1\n",
    "print()            \n",
    "print(f'Output : {n}')    \n",
    "    "
   ]
  },
  {
   "cell_type": "code",
   "execution_count": 33,
   "id": "b83e2f9a",
   "metadata": {},
   "outputs": [
    {
     "name": "stdout",
     "output_type": "stream",
     "text": [
      "\n",
      "Output : 36\n"
     ]
    }
   ],
   "source": [
    "#extra info .I did examine ,which way is better\n",
    "\n",
    "nums= [1,2,3,1,1,3]  #Given nums\n",
    "\n",
    "n = 0   #to count the output\n",
    " \n",
    "for i in range(len(nums)):\n",
    "    for j in range(len(nums)):\n",
    "        #if nums[i] == nums[j] and i<j:\n",
    "            #print(i,j)\n",
    "            n+=1\n",
    "print()            \n",
    "print(f'Output : {n}')\n",
    "\n",
    "#bu benim yazdigim döngüydü,iki tane ici ice for döngüsü koydum ki,\n",
    "#en bastaki q,sirasiyla tüm sayilarla eslessin diye, mesela\n",
    "#ilk for'da a aliniyor,ve alininca islem olmadan hemen ikinci for'a geciliyor,\n",
    "#o ilk forda alinan 1 ikinci for'da tüm elemanlarla print(i,j) sayesinde eslesiyor, ve 1 in\n",
    "#isi bittkten sonra ilk for'da 2 aliniyor ve tüm islemler bir daha oluyor, burda (1,2) olunca sonra \n",
    "#(2,1) de oluyor ve bosa hamle yapilmis oluyor ve hamle sayisini saydim,36 cikti ama asagida 15 cikti\n",
    "\n",
    "\n",
    "#ama asagida enumerate for e in nums[1:]: print(e) seklinde bir döngü koyunca \n",
    "# nums[1:] icindeki iki nokta isareti 1 den sonrakileri aliyor,ve sen bir n+=1\n",
    "#gibi bisey yaparsan her adimda biraz daha eksik alacak,cünkü almaya bastan baslamayacak\n",
    "# kaldigi yerden baslayacak\n",
    "# for e in nums[1]: tabi buraya 1 degilde bir degisken koymaliyiz,asagidaki gibi enumerate yöntemindeki gibi"
   ]
  },
  {
   "cell_type": "code",
   "execution_count": 1,
   "id": "4ec76b02",
   "metadata": {},
   "outputs": [
    {
     "name": "stdout",
     "output_type": "stream",
     "text": [
      "1 1\n",
      "1 2\n",
      "1 3\n",
      "1 1\n",
      "1 1\n",
      "1 3\n",
      "2 1\n",
      "2 2\n",
      "2 3\n",
      "2 1\n",
      "2 1\n",
      "2 3\n",
      "3 1\n",
      "3 2\n",
      "3 3\n",
      "3 1\n",
      "3 1\n",
      "3 3\n",
      "1 1\n",
      "1 2\n",
      "1 3\n",
      "1 1\n",
      "1 1\n",
      "1 3\n",
      "1 1\n",
      "1 2\n",
      "1 3\n",
      "1 1\n",
      "1 1\n",
      "1 3\n",
      "3 1\n",
      "3 2\n",
      "3 3\n",
      "3 1\n",
      "3 1\n",
      "3 3\n"
     ]
    }
   ],
   "source": [
    "#extra info \n",
    "nums= [1,2,3,1,1,3]\n",
    "for i in nums:\n",
    "    for j in nums:\n",
    "        print(i,j)\n",
    "        \n",
    "        \n",
    "#loop in loop works so        "
   ]
  },
  {
   "cell_type": "code",
   "execution_count": 20,
   "id": "69a4b5ef",
   "metadata": {},
   "outputs": [
    {
     "name": "stdout",
     "output_type": "stream",
     "text": [
      "0 1\n",
      "1 2\n",
      "2 3\n",
      "3 1\n",
      "4 1\n",
      "5 3\n"
     ]
    }
   ],
   "source": [
    "nums= [1,2,3,1,1,3] \n",
    "\n",
    "\n",
    "for i, j in enumerate(nums):\n",
    "    print(i,j)\n",
    "    \n",
    "    \n",
    "#enumerate fonktionu her indexi kendi elemaniyla beraber getiriyor,  "
   ]
  },
  {
   "cell_type": "code",
   "execution_count": 3,
   "id": "612bdc04",
   "metadata": {},
   "outputs": [
    {
     "name": "stdout",
     "output_type": "stream",
     "text": [
      "340\n",
      "1\n",
      "ali\n",
      "3\n"
     ]
    }
   ],
   "source": [
    "nums= [20,30,340,1,'ali',3] \n",
    "for e in nums[2:]:\n",
    "    print(e)\n",
    "    \n",
    "    \n",
    "#bu for döngüsünü cok begendim, belli bir yerden sonrasini yazdiriyor"
   ]
  },
  {
   "cell_type": "code",
   "execution_count": null,
   "id": "2fa38ad9",
   "metadata": {},
   "outputs": [],
   "source": []
  },
  {
   "cell_type": "code",
   "execution_count": 42,
   "id": "773477be",
   "metadata": {},
   "outputs": [
    {
     "name": "stdout",
     "output_type": "stream",
     "text": [
      "4\n"
     ]
    }
   ],
   "source": [
    "#2.WAY   with enumerate fonction\n",
    "\n",
    "nums= [1,2,3,1,1,3]\n",
    "\n",
    "n = 0\n",
    "\n",
    "for counter, value in enumerate(nums):   \n",
    "    for x in nums[counter+1 :]: #x eleman demek,counter index demek\n",
    "        if x == value:\n",
    "            n+=1\n",
    "print(n)             \n",
    "\n",
    "\n",
    "#aslinda bu cözümün amaci su, örnegin ilk indexli elemani aldiginda onu sirayla diger bütün elemanlarla\n",
    "#eslestirmek,sonra ikinci elemani, ikinciden sonraki tüm elemanlarla eslestirmek(nums[counter+1 :],bir öncekiyle olmuyor,\n",
    "#cünkü bir öncekiyle ilk indexli elemanda zaten eslesmislerdi\n",
    "\n",
    "#bu cözümde enumerate fonksiyonunun tek katkisi ilk for döngüsünde \n",
    "#index ile elemani ayni anda aliyor, bunun bize faydasi :\n",
    "#bizim listemize göre enumerate fonksiyonu su sekilde ciktilar veriyor [0:index,1:eleman],[1,2],[2,3],[3,1],\n",
    "#[1,1],[5,3] seklinde ciktilar veriyor\n",
    "#ilk for döngüsünde ilk eleman icin [0,1] aliyor\n",
    "#bu aldigi [0,1] ,for counter, value in enumerate(nums): burada counter yerine 0,value yerine 1 yaziyor\n",
    "#sonra yine bu elemanlar icin asagi ikinci for döngüsüne indigimizde counter 0 oldugu icin nums[counter+1 :]\n",
    "#birda nums[1:] diye birsey olusuyor. bunun anlami x sirayla bu elemanlar olacak yani nums[1]=2  nums[2]=3. \n",
    "#nums[3]=1 ,nums[4]=1,ve nums[5]=3 olacak\n",
    "#bunun anlami bir asagida if x == value: ifadesinde value=1 zaten [0:index,1:eleman] den dolayi\n",
    "#ve x in alacagi degerler 2,3,1,1,3 olacak,ilk deger olmayacak,cünkü [counter+1 ile kendisini aldirtmiyoruz\n",
    "# ve eslesme bu sekilde enumerateden olacak ilk aldigimiz [0,1] degeri icin =(2=x,1=value),(3,1)(1,1)(1,1)(3,1)\n",
    "#burda iki tane (1,1) oldugu icin n=2 olacak,sadece enumerateden gelecen [0,1] icin, \n",
    "#sonra digerleri icinde devam edecek\n",
    "\n",
    "\n",
    "#döngü olarakta benim yukarda yazdigimda cok iyi cikti, yukarida 36 döngü vardi burda 4 döndü var"
   ]
  },
  {
   "cell_type": "code",
   "execution_count": null,
   "id": "5c3f499a",
   "metadata": {},
   "outputs": [],
   "source": []
  },
  {
   "cell_type": "code",
   "execution_count": null,
   "id": "1ccc7617",
   "metadata": {},
   "outputs": [],
   "source": []
  },
  {
   "cell_type": "code",
   "execution_count": 41,
   "id": "68f0b8ce",
   "metadata": {},
   "outputs": [
    {
     "name": "stdout",
     "output_type": "stream",
     "text": [
      "15\n"
     ]
    }
   ],
   "source": [
    "#yukardaki döngüm 36 cikmisti,burda [num:] sayesinde 15 cikti\n",
    "\n",
    "nums= [1,2,3,1,1,3]\n",
    "\n",
    "n = 0\n",
    "\n",
    "for counter, value in enumerate(nums):\n",
    "    for x in nums[counter+1 :]:\n",
    "        #if x == value:\n",
    "            n+=1\n",
    "print(n) "
   ]
  },
  {
   "cell_type": "code",
   "execution_count": null,
   "id": "4903b7b9",
   "metadata": {},
   "outputs": [],
   "source": []
  }
 ],
 "metadata": {
  "kernelspec": {
   "display_name": "Python 3.10.7 64-bit",
   "language": "python",
   "name": "python3"
  },
  "language_info": {
   "codemirror_mode": {
    "name": "ipython",
    "version": 3
   },
   "file_extension": ".py",
   "mimetype": "text/x-python",
   "name": "python",
   "nbconvert_exporter": "python",
   "pygments_lexer": "ipython3",
   "version": "3.10.7"
  },
  "vscode": {
   "interpreter": {
    "hash": "aee8b7b246df8f9039afb4144a1f6fd8d2ca17a180786b69acc140d282b71a49"
   }
  }
 },
 "nbformat": 4,
 "nbformat_minor": 5
}
