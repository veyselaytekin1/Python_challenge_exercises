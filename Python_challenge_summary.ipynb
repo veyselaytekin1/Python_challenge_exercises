{
 "cells": [
  {
   "cell_type": "code",
   "execution_count": 1,
   "metadata": {},
   "outputs": [
    {
     "name": "stdout",
     "output_type": "stream",
     "text": [
      "[18, 6, 6, 6, 1, -1]\n"
     ]
    }
   ],
   "source": [
    "arr = [17,18,5,4,6,1]\n",
    "\n",
    "new_arr = []\n",
    "\n",
    "for counter,value in enumerate(arr):\n",
    "    for x in arr[counter+1:]:  # arr[counter+1:] that get the value,after the selected element\n",
    "        value = max(arr[counter+1:])    #I assing the max value to my value\n",
    "    new_arr.append(value)\n",
    "new_arr[-1]=-1   \n",
    "\n",
    "print(new_arr)\n",
    "\n",
    "\n",
    "\n",
    "\n",
    "# burda önce ilk elemani enumerate fonksiyonu ile yakaladim,\n",
    "#sonra o elemanin saginda kalanlari arr[counter+1:]  bu sekilde yakaladim,\n",
    "# ve elime aldigim ilk degeri bu elemanlarin max olan degerine atadim\n",
    "#en son degeride -1 olarak atadim cünkü soruda öyle diyordu"
   ]
  },
  {
   "cell_type": "code",
   "execution_count": 2,
   "metadata": {},
   "outputs": [
    {
     "name": "stdout",
     "output_type": "stream",
     "text": [
      "7\n",
      "10\n",
      "7\n"
     ]
    }
   ],
   "source": [
    "#Solituon\n",
    "l1 = [2,4,3]\n",
    "l2 = [5,6,4]\n",
    "\n",
    "output = []\n",
    "output1 = []\n",
    "\n",
    "for index1, value1 in enumerate(l1):\n",
    "    for index2, value2 in enumerate(l2):\n",
    "        if index1 == index2:\n",
    "            new_value = value1 + value2\n",
    "            print(new_value) "
   ]
  },
  {
   "cell_type": "code",
   "execution_count": 3,
   "metadata": {},
   "outputs": [
    {
     "name": "stdout",
     "output_type": "stream",
     "text": [
      "(0,3)\n",
      "(0,4)\n",
      "(2,5)\n",
      "(3,4)\n",
      "\n",
      "Output : 4\n"
     ]
    }
   ],
   "source": [
    "#SOLITION of EXERCISE\n",
    "\n",
    "#1.WAY\n",
    "\n",
    "\n",
    "nums= [1,2,3,1,1,3]  #Given nums\n",
    "\n",
    "n = 0   #to count the output\n",
    " \n",
    "for i in range(len(nums)):\n",
    "    for j in range(len(nums)):\n",
    "        if nums[i] == nums[j] and i<j:\n",
    "            print(f'({i},{j})')\n",
    "            n+=1\n",
    "print()            \n",
    "print(f'Output : {n}')  "
   ]
  },
  {
   "cell_type": "code",
   "execution_count": 4,
   "metadata": {},
   "outputs": [
    {
     "name": "stdout",
     "output_type": "stream",
     "text": [
      "\n",
      "Output : 36\n"
     ]
    }
   ],
   "source": [
    "#extra info .I did examine ,which way is better\n",
    "\n",
    "nums= [1,2,3,1,1,3]  #Given nums\n",
    "\n",
    "n = 0   #to count the output\n",
    " \n",
    "for i in range(len(nums)):\n",
    "    for j in range(len(nums)):\n",
    "        #if nums[i] == nums[j] and i<j:\n",
    "            #print(i,j)\n",
    "            n+=1\n",
    "print()            \n",
    "print(f'Output : {n}')\n",
    "\n",
    "#bu benim yazdigim döngüydü,iki tane ici ice for döngüsü koydum ki,\n",
    "#en bastaki q,sirasiyla tüm sayilarla eslessin diye, mesela\n",
    "#ilk for'da a aliniyor,ve alininca islem olmadan hemen ikinci for'a geciliyor,\n",
    "#o ilk forda alinan 1 ikinci for'da tüm elemanlarla print(i,j) sayesinde eslesiyor, ve 1 in\n",
    "#isi bittkten sonra ilk for'da 2 aliniyor ve tüm islemler bir daha oluyor, burda (1,2) olunca sonra \n",
    "#(2,1) de oluyor ve bosa hamle yapilmis oluyor ve hamle sayisini saydim,36 cikti ama asagida 15 cikti\n",
    "\n",
    "\n",
    "#ama asagida enumerate for e in nums[1:]: print(e) seklinde bir döngü koyunca \n",
    "# nums[1:] icindeki iki nokta isareti 1 den sonrakileri aliyor,ve sen bir n+=1\n",
    "#gibi bisey yaparsan her adimda biraz daha eksik alacak,cünkü almaya bastan baslamayacak\n",
    "# kaldigi yerden baslayacak\n",
    "# for e in nums[1]: tabi buraya 1 degilde bir degisken koymaliyiz,asagidaki gibi enumerate yöntemindeki gibi"
   ]
  },
  {
   "cell_type": "code",
   "execution_count": 5,
   "metadata": {},
   "outputs": [
    {
     "name": "stdout",
     "output_type": "stream",
     "text": [
      "1 1\n",
      "1 2\n",
      "1 3\n",
      "1 1\n",
      "1 1\n",
      "1 3\n",
      "2 1\n",
      "2 2\n",
      "2 3\n",
      "2 1\n",
      "2 1\n",
      "2 3\n",
      "3 1\n",
      "3 2\n",
      "3 3\n",
      "3 1\n",
      "3 1\n",
      "3 3\n",
      "1 1\n",
      "1 2\n",
      "1 3\n",
      "1 1\n",
      "1 1\n",
      "1 3\n",
      "1 1\n",
      "1 2\n",
      "1 3\n",
      "1 1\n",
      "1 1\n",
      "1 3\n",
      "3 1\n",
      "3 2\n",
      "3 3\n",
      "3 1\n",
      "3 1\n",
      "3 3\n"
     ]
    }
   ],
   "source": [
    "#extra info \n",
    "nums= [1,2,3,1,1,3]\n",
    "for i in nums:\n",
    "    for j in nums:\n",
    "        print(i,j)\n",
    "        \n",
    "        \n",
    "#loop in loop works so "
   ]
  },
  {
   "cell_type": "code",
   "execution_count": 6,
   "metadata": {},
   "outputs": [
    {
     "name": "stdout",
     "output_type": "stream",
     "text": [
      "0 1\n",
      "1 2\n",
      "2 3\n",
      "3 1\n",
      "4 1\n",
      "5 3\n"
     ]
    }
   ],
   "source": [
    "nums= [1,2,3,1,1,3] \n",
    "\n",
    "\n",
    "for i, j in enumerate(nums):\n",
    "    print(i,j)\n",
    "    \n",
    "    \n",
    "#enumerate fonktionu her indexi kendi elemaniyla beraber getiriyor, "
   ]
  },
  {
   "cell_type": "code",
   "execution_count": 7,
   "metadata": {},
   "outputs": [
    {
     "name": "stdout",
     "output_type": "stream",
     "text": [
      "340\n",
      "1\n",
      "ali\n",
      "3\n"
     ]
    }
   ],
   "source": [
    "nums= [20,30,340,1,'ali',3] \n",
    "for e in nums[2:]:\n",
    "    print(e)\n",
    "    \n",
    "    \n",
    "#bu for döngüsünü cok begendim, belli bir yerden sonrasini yazdiriyor"
   ]
  },
  {
   "cell_type": "code",
   "execution_count": 8,
   "metadata": {},
   "outputs": [
    {
     "name": "stdout",
     "output_type": "stream",
     "text": [
      "4\n"
     ]
    }
   ],
   "source": [
    "#2.WAY   with enumerate fonction\n",
    "\n",
    "nums= [1,2,3,1,1,3]\n",
    "\n",
    "n = 0\n",
    "\n",
    "for counter, value in enumerate(nums):   \n",
    "    for x in nums[counter+1 :]: #x eleman demek,counter index demek\n",
    "        if x == value:\n",
    "            n+=1\n",
    "print(n)             \n",
    "\n",
    "\n",
    "#aslinda bu cözümün amaci su, örnegin ilk indexli elemani aldiginda onu sirayla diger bütün elemanlarla\n",
    "#eslestirmek,sonra ikinci elemani, ikinciden sonraki tüm elemanlarla eslestirmek(nums[counter+1 :],bir öncekiyle olmuyor,\n",
    "#cünkü bir öncekiyle ilk indexli elemanda zaten eslesmislerdi\n",
    "\n",
    "#bu cözümde enumerate fonksiyonunun tek katkisi ilk for döngüsünde \n",
    "#index ile elemani ayni anda aliyor, bunun bize faydasi :\n",
    "#bizim listemize göre enumerate fonksiyonu su sekilde ciktilar veriyor [0:index,1:eleman],[1,2],[2,3],[3,1],\n",
    "#[1,1],[5,3] seklinde ciktilar veriyor\n",
    "#ilk for döngüsünde ilk eleman icin [0,1] aliyor\n",
    "#bu aldigi [0,1] ,for counter, value in enumerate(nums): burada counter yerine 0,value yerine 1 yaziyor\n",
    "#sonra yine bu elemanlar icin asagi ikinci for döngüsüne indigimizde counter 0 oldugu icin nums[counter+1 :]\n",
    "#birda nums[1:] diye birsey olusuyor. bunun anlami x sirayla bu elemanlar olacak yani nums[1]=2  nums[2]=3. \n",
    "#nums[3]=1 ,nums[4]=1,ve nums[5]=3 olacak\n",
    "#bunun anlami bir asagida if x == value: ifadesinde value=1 zaten [0:index,1:eleman] den dolayi\n",
    "#ve x in alacagi degerler 2,3,1,1,3 olacak,ilk deger olmayacak,cünkü [counter+1 ile kendisini aldirtmiyoruz\n",
    "# ve eslesme bu sekilde enumerateden olacak ilk aldigimiz [0,1] degeri icin =(2=x,1=value),(3,1)(1,1)(1,1)(3,1)\n",
    "#burda iki tane (1,1) oldugu icin n=2 olacak,sadece enumerateden gelecen [0,1] icin, \n",
    "#sonra digerleri icinde devam edecek\n",
    "\n",
    "\n",
    "#döngü olarakta benim yukarda yazdigimda cok iyi cikti, yukarida 36 döngü vardi burda 4 döndü var"
   ]
  },
  {
   "cell_type": "code",
   "execution_count": 9,
   "metadata": {},
   "outputs": [
    {
     "name": "stdout",
     "output_type": "stream",
     "text": [
      "15\n"
     ]
    }
   ],
   "source": [
    "#yukardaki döngüm 36 cikmisti,burda [num:] sayesinde 15 cikti\n",
    "\n",
    "nums= [1,2,3,1,1,3]\n",
    "\n",
    "n = 0\n",
    "\n",
    "for counter, value in enumerate(nums):\n",
    "    for x in nums[counter+1 :]:\n",
    "        #if x == value:\n",
    "            n+=1\n",
    "print(n) "
   ]
  },
  {
   "cell_type": "code",
   "execution_count": 10,
   "metadata": {},
   "outputs": [
    {
     "name": "stdout",
     "output_type": "stream",
     "text": [
      "lang1\n"
     ]
    }
   ],
   "source": [
    "# Data Engineering - Interview Question - 2nd techical interview\n",
    "\n",
    "# Write a function that, for a string phrase as an argument, returns a string that indicates the language to which this phrase belongs.\n",
    "# If you can't determine the language or an error occurs - your function should return unknown.\n",
    "\n",
    "# Note:\n",
    "\n",
    "# Please avoid using any libraries or functions (langdetect, Polyglot, etc.) for detecting a language.\n",
    "# The task is about you writing an algorithm based on the input data and dataset you have.\n",
    "# We are looking for a clean and efficient solution: when you are done\n",
    "\n",
    "lang_dataset = {\n",
    "        \"lang1\": \"The gladdest moment in life is a departure into unknown lands. Travel makes one modest. You see what a tiny place you occupy in the world. Better to see something once than hear about it a thousand times.\",\n",
    "        \"lang2\": \"İnsan hayatındaki en mutlu an, bilinmeyen topraklara doğru yola çıkmaktır. Seyahat bir mütevazı yapar. Dünyada ne kadar küçük bir yer işgal ett\",\n",
    "        \"lang3\": \"Радісний момент у житті людини це опинитися на невідомих землях. Подорож робить тебе скромним. Ти бачиш, яке маленьке місце займаєш у світі. Краще побачити щось один раз, ніж почути про це тисячу разів.\"\n",
    "}\n",
    "\n",
    "lang_dataset[\"lang1\"].lower()  #bu islemler ile yukardaki dict'teki kelimeleri kücük harf yaptim\n",
    "lang_dataset[\"lang2\"].lower()\n",
    "lang_dataset[\"lang3\"].lower()\n",
    "\n",
    "phrase = \"This Is happy Life\"\n",
    "phrase2 = \"insan en mutlu life \"\n",
    "\n",
    "\n",
    "phrase = phrase.lower()\n",
    "phrase = phrase.split(' ')\n",
    "dct_score ={}   # I created that, to see how many points each languages got.\n",
    "\n",
    "for lang,sentence in lang_dataset.items():   # with that I get the items of dictionary\n",
    "    score=0      # I put that hier, in every circle it it reset yourself\n",
    "    for word in phrase:\n",
    "        if word in sentence:\n",
    "            score+=1\n",
    "    dct_score[lang] = score\n",
    "\n",
    "max_score = max(dct_score.values())   #I get the max values from languages\n",
    "\n",
    "max_lang = max(dct_score, key = dct_score.get)  #with that i get the key of the max values\n",
    "\n",
    "if max_score ==0:\n",
    "        print('no language') \n",
    "else:\n",
    "        print(max_lang)         \n",
    "\n",
    "\n"
   ]
  },
  {
   "cell_type": "code",
   "execution_count": 11,
   "metadata": {},
   "outputs": [
    {
     "name": "stdout",
     "output_type": "stream",
     "text": [
      "[0, 1]\n"
     ]
    }
   ],
   "source": [
    "#SOLUTION\n",
    "\n",
    "\n",
    "\n",
    "nums = [2,7,11,15]\n",
    "\n",
    "target = 9\n",
    "\n",
    "for counter, value in enumerate(nums):   #burda enumerate fonk ile hem indexi hemde value yi aldim\n",
    "    for counter2 , value2 in  enumerate(nums) :  #toplama yapacagim icin birer tane daha deger cagirdim,\n",
    "        if value + value2 == target  and counter < counter2: \n",
    "            print([counter , counter2])\n",
    "            \n",
    "            \n",
    "#kücüktür isaretini koymayinca iki cikti veriyor[0,1]ve[1,0], böyle yaptimki \n",
    "#for icinde for u sinirlandirmis oldum            "
   ]
  },
  {
   "cell_type": "code",
   "execution_count": 12,
   "metadata": {},
   "outputs": [
    {
     "name": "stdout",
     "output_type": "stream",
     "text": [
      "15\n",
      "34\n",
      "5\n",
      "6\n",
      "4\n"
     ]
    }
   ],
   "source": [
    "nums = [2,7,11,15,34,5,6,4]\n",
    "\n",
    "for i in nums[3:]:\n",
    "    print(i)\n",
    "    "
   ]
  },
  {
   "cell_type": "code",
   "execution_count": 13,
   "metadata": {},
   "outputs": [
    {
     "name": "stdout",
     "output_type": "stream",
     "text": [
      "[0, 1]\n",
      "1\n",
      "1\n"
     ]
    }
   ],
   "source": [
    "#2.WAY  baskasinin cözümü\n",
    "\n",
    "nums = [2,7,11,15]\n",
    "\n",
    "target = 9\n",
    "\n",
    "\n",
    "for i in nums:\n",
    "    if target-i in nums[nums.index(i)+1:]:\n",
    "        print([nums.index(i),nums.index(target-i,nums.index(i)+1)])\n",
    "        \n",
    "        \n",
    "        \n",
    "        #bu alttakiler ne cikti veriyorlar diye baktim,\n",
    "        print(nums.index(target-i))   \n",
    "        print(nums.index(7,1))\n",
    "        \n",
    "        \n",
    "        \n",
    "#if target-i in nums[nums.index(i)+1:]:#Bu güzel bir hamle i elemanin indexine 1 ekliyor ve sonundaki :  \n",
    "#ona o indexten sonrakileride sona kadar al diyor\n",
    "\n",
    "\n",
    "#print([nums.index(i),nums.index(target-i,nums.index(i)+1)])  \n",
    "#print(nums.index(target-i))    #targetli kisimda son kismini silsemde index fonktionu calisti"
   ]
  },
  {
   "cell_type": "code",
   "execution_count": 14,
   "metadata": {},
   "outputs": [
    {
     "name": "stdout",
     "output_type": "stream",
     "text": [
      "[0, 0]\n"
     ]
    }
   ],
   "source": [
    "nums = [2,7,11,15]\n",
    "\n",
    "target = 4\n",
    "\n",
    "\n",
    "\n",
    "for i in nums:\n",
    "    if target-i in nums[nums.index(i):]:   #buraya yani index numarasina 1 eklemesi icin +1 yaziyorum\n",
    "        print([nums.index(i),nums.index(target-i)])\n",
    "\n",
    "        #bu sekilde eger 2 secersem yanlis olur cünkü soruda kendinden sonraki olmali"
   ]
  },
  {
   "cell_type": "code",
   "execution_count": 15,
   "metadata": {},
   "outputs": [
    {
     "name": "stdout",
     "output_type": "stream",
     "text": [
      "0\n"
     ]
    }
   ],
   "source": [
    "nums = [2,7,11,15]\n",
    "\n",
    "print(nums.index(2))"
   ]
  },
  {
   "cell_type": "code",
   "execution_count": 16,
   "metadata": {},
   "outputs": [
    {
     "name": "stdout",
     "output_type": "stream",
     "text": [
      "2\n",
      "7\n",
      "11\n",
      "15\n"
     ]
    }
   ],
   "source": [
    "nums = [2,7,11,15]\n",
    "for i in nums:\n",
    "    print(i)"
   ]
  },
  {
   "cell_type": "code",
   "execution_count": 29,
   "metadata": {},
   "outputs": [
    {
     "name": "stdout",
     "output_type": "stream",
     "text": [
      "[1, 2, 4, 5]\n",
      "------------\n",
      "[1, 2, 4, 5]\n",
      "-------------\n",
      "[1, 2, 4, 5]\n",
      "-------------\n",
      "[1, 2, 4, 5]\n",
      "-------------\n",
      "[1, 2, 4, 5]\n"
     ]
    }
   ],
   "source": [
    "# listeden ayni olan elemenlari cikarmak duplicate \n",
    "\n",
    "# 1.way\n",
    "nums = [1, 2, 4, 2, 1, 4, 5]\n",
    "\n",
    "rest = [*set(nums)]\n",
    "print(rest)\n",
    "print('------------')\n",
    "\n",
    "#2.way \n",
    "\n",
    "nums = [1, 2, 4, 2, 1, 4, 5]\n",
    "\n",
    "rest = []\n",
    "\n",
    "[rest.append(i) for i in nums if i not in rest]\n",
    "print(rest)\n",
    "print('-------------')\n",
    "\n",
    "\n",
    "# 3. way önce set icine al duplicated olanlar gitsin sonra yine listeye cevir\n",
    "\n",
    "nums = [1, 2, 4, 2, 1, 4, 5]\n",
    "\n",
    "nums = set(nums)\n",
    "nums = list(nums)\n",
    "print(nums)\n",
    "print('-------------')\n",
    "\n",
    "\n",
    "\n",
    "# 4. way \n",
    "nums = [1, 2, 4, 2, 1, 4, 5]\n",
    "\n",
    "rest = [i for n,i in enumerate(nums) if n not in nums[:n]]\n",
    "print(rest)\n",
    "print('-------------')\n",
    "\n",
    "\n",
    "# 5.way \n",
    "\n",
    "nums = [1, 2, 4, 2, 1, 4, 5]\n",
    "\n",
    "rest = []\n",
    "\n",
    "for i in nums:\n",
    "    if i not in rest:\n",
    "        rest.append(i)\n",
    "print(rest)        \n"
   ]
  },
  {
   "cell_type": "code",
   "execution_count": null,
   "metadata": {},
   "outputs": [],
   "source": []
  },
  {
   "cell_type": "code",
   "execution_count": null,
   "metadata": {},
   "outputs": [],
   "source": []
  },
  {
   "cell_type": "code",
   "execution_count": 26,
   "metadata": {},
   "outputs": [
    {
     "data": {
      "text/plain": [
       "[1, 2, 4, 2]"
      ]
     },
     "execution_count": 26,
     "metadata": {},
     "output_type": "execute_result"
    }
   ],
   "source": [
    "nums = [1, 2, 4, 2, 9, 1, 4, 5]\n",
    "nums[:nums.index(9)]\n",
    "\n",
    "#bir indexten önceki sayilari yakalamk icin"
   ]
  },
  {
   "cell_type": "code",
   "execution_count": null,
   "metadata": {},
   "outputs": [],
   "source": []
  }
 ],
 "metadata": {
  "kernelspec": {
   "display_name": "Python 3.10.7 64-bit",
   "language": "python",
   "name": "python3"
  },
  "language_info": {
   "codemirror_mode": {
    "name": "ipython",
    "version": 3
   },
   "file_extension": ".py",
   "mimetype": "text/x-python",
   "name": "python",
   "nbconvert_exporter": "python",
   "pygments_lexer": "ipython3",
   "version": "3.10.7"
  },
  "orig_nbformat": 4,
  "vscode": {
   "interpreter": {
    "hash": "aee8b7b246df8f9039afb4144a1f6fd8d2ca17a180786b69acc140d282b71a49"
   }
  }
 },
 "nbformat": 4,
 "nbformat_minor": 2
}
