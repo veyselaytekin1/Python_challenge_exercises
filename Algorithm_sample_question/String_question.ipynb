{
 "cells": [
  {
   "cell_type": "markdown",
   "metadata": {},
   "source": [
    "# 1- Stringlerle ilgili bir soru"
   ]
  },
  {
   "cell_type": "markdown",
   "metadata": {},
   "source": [
    "![](2023-01-15-22-26-10.png)"
   ]
  },
  {
   "cell_type": "code",
   "execution_count": 10,
   "metadata": {},
   "outputs": [
    {
     "name": "stdout",
     "output_type": "stream",
     "text": [
      "sa\n",
      "----------------------------\n",
      "ri\n",
      "----------------------------\n"
     ]
    },
    {
     "data": {
      "text/plain": [
       "'samehmetri'"
      ]
     },
     "execution_count": 10,
     "metadata": {},
     "output_type": "execute_result"
    }
   ],
   "source": [
    "s1 = 'sari'\n",
    "s2 = 'mehmet'\n",
    "\n",
    "\n",
    "print(s1[:len(s1)//2] ) # zaten icindekiler integer bir deger oldugu icin calisiyor bu yazim tarzi\n",
    "\n",
    "print('----------------------------')\n",
    "\n",
    "\n",
    "\n",
    "print(s1[len(s1)//2:])   # buda sona : isareti koyma daha önce Leetcode enumerate fonksiyonu kullanirkendenedigim bir yöntem \n",
    "\n",
    "print('----------------------------')\n",
    "\n",
    "\n",
    "\n",
    "# Solution\n",
    "\n",
    "s1[:len(s1)//2]+ s2 + s1[len(s1)//2:]"
   ]
  },
  {
   "cell_type": "markdown",
   "metadata": {},
   "source": [
    "------"
   ]
  },
  {
   "cell_type": "markdown",
   "metadata": {},
   "source": [
    "-----"
   ]
  },
  {
   "cell_type": "markdown",
   "metadata": {},
   "source": [
    "-----"
   ]
  },
  {
   "cell_type": "markdown",
   "metadata": {},
   "source": [
    "# 2- Stringlerle ilgili bir soru"
   ]
  },
  {
   "cell_type": "markdown",
   "metadata": {},
   "source": [
    "![](2023-01-15-22-47-17.png)"
   ]
  },
  {
   "cell_type": "code",
   "execution_count": 5,
   "metadata": {},
   "outputs": [
    {
     "name": "stdout",
     "output_type": "stream",
     "text": [
      "BESemy\n"
     ]
    }
   ],
   "source": [
    "string = 'BESacademy'\n",
    "\n",
    "if len(string)>3:\n",
    "    print(string[0:3]+string[-3:])   # 3 dahil olmuyor\n",
    "else:\n",
    "    print('empty string')    "
   ]
  },
  {
   "cell_type": "code",
   "execution_count": null,
   "metadata": {},
   "outputs": [],
   "source": []
  },
  {
   "cell_type": "markdown",
   "metadata": {},
   "source": [
    "------------------"
   ]
  },
  {
   "cell_type": "markdown",
   "metadata": {},
   "source": [
    "-------------"
   ]
  },
  {
   "cell_type": "markdown",
   "metadata": {},
   "source": [
    "# 3- Stringlerle ilgili bir soru"
   ]
  },
  {
   "cell_type": "markdown",
   "metadata": {},
   "source": [
    "![](2023-01-15-23-31-57.png)"
   ]
  },
  {
   "cell_type": "markdown",
   "metadata": {},
   "source": []
  }
 ],
 "metadata": {
  "kernelspec": {
   "display_name": "Python 3.9.13 ('base')",
   "language": "python",
   "name": "python3"
  },
  "language_info": {
   "codemirror_mode": {
    "name": "ipython",
    "version": 3
   },
   "file_extension": ".py",
   "mimetype": "text/x-python",
   "name": "python",
   "nbconvert_exporter": "python",
   "pygments_lexer": "ipython3",
   "version": "3.9.13"
  },
  "orig_nbformat": 4,
  "vscode": {
   "interpreter": {
    "hash": "f7c19a79b9aeb8b1cc18eda6778f62d726c8b19540b84d23ad80114035b2e0b4"
   }
  }
 },
 "nbformat": 4,
 "nbformat_minor": 2
}
