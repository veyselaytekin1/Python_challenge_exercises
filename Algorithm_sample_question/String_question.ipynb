{
 "cells": [
  {
   "cell_type": "markdown",
   "metadata": {},
   "source": [
    "# 1- Stringlerle ilgili bir soru"
   ]
  },
  {
   "cell_type": "markdown",
   "metadata": {},
   "source": [
    "![](2023-01-15-22-26-10.png)"
   ]
  },
  {
   "cell_type": "code",
   "execution_count": 10,
   "metadata": {},
   "outputs": [
    {
     "name": "stdout",
     "output_type": "stream",
     "text": [
      "sa\n",
      "----------------------------\n",
      "ri\n",
      "----------------------------\n"
     ]
    },
    {
     "data": {
      "text/plain": [
       "'samehmetri'"
      ]
     },
     "execution_count": 10,
     "metadata": {},
     "output_type": "execute_result"
    }
   ],
   "source": [
    "s1 = 'sari'\n",
    "s2 = 'mehmet'\n",
    "\n",
    "\n",
    "print(s1[:len(s1)//2] ) # zaten icindekiler integer bir deger oldugu icin calisiyor bu yazim tarzi\n",
    "\n",
    "print('----------------------------')\n",
    "\n",
    "\n",
    "\n",
    "print(s1[len(s1)//2:])   # buda sona : isareti koyma daha önce Leetcode enumerate fonksiyonu kullanirkendenedigim bir yöntem \n",
    "\n",
    "print('----------------------------')\n",
    "\n",
    "\n",
    "\n",
    "# Solution\n",
    "\n",
    "s1[:len(s1)//2]+ s2 + s1[len(s1)//2:]"
   ]
  },
  {
   "cell_type": "markdown",
   "metadata": {},
   "source": [
    "------"
   ]
  },
  {
   "cell_type": "markdown",
   "metadata": {},
   "source": [
    "-----"
   ]
  },
  {
   "cell_type": "markdown",
   "metadata": {},
   "source": [
    "-----"
   ]
  },
  {
   "cell_type": "markdown",
   "metadata": {},
   "source": [
    "# 2- Stringlerle ilgili bir soru"
   ]
  },
  {
   "cell_type": "markdown",
   "metadata": {},
   "source": [
    "![](2023-01-15-22-47-17.png)"
   ]
  },
  {
   "cell_type": "code",
   "execution_count": 5,
   "metadata": {},
   "outputs": [
    {
     "name": "stdout",
     "output_type": "stream",
     "text": [
      "BESemy\n"
     ]
    }
   ],
   "source": [
    "string = 'BESacademy'\n",
    "\n",
    "if len(string)>3:\n",
    "    print(string[0:3]+string[-3:])   # 3 dahil olmuyor\n",
    "else:\n",
    "    print('empty string')    "
   ]
  },
  {
   "cell_type": "code",
   "execution_count": null,
   "metadata": {},
   "outputs": [],
   "source": []
  },
  {
   "cell_type": "markdown",
   "metadata": {},
   "source": [
    "------------------"
   ]
  },
  {
   "cell_type": "markdown",
   "metadata": {},
   "source": [
    "-------------"
   ]
  },
  {
   "cell_type": "markdown",
   "metadata": {},
   "source": [
    "# 3- Stringlerle ilgili bir soru"
   ]
  },
  {
   "cell_type": "markdown",
   "metadata": {},
   "source": [
    "![](2023-01-15-23-31-57.png)"
   ]
  },
  {
   "cell_type": "code",
   "execution_count": 6,
   "metadata": {},
   "outputs": [
    {
     "name": "stdout",
     "output_type": "stream",
     "text": [
      "str_x has 2 times Mr.Bean\n"
     ]
    }
   ],
   "source": [
    "str_x = 'Mr.Bean is good actor and Mr.Bean is very funny'\n",
    "\n",
    "find = 'Mr.Bean'\n",
    "\n",
    "score = str_x.count(find)\n",
    "\n",
    "print(f'str_x has {score} times Mr.Bean')"
   ]
  },
  {
   "cell_type": "markdown",
   "metadata": {},
   "source": [
    "-----"
   ]
  },
  {
   "cell_type": "markdown",
   "metadata": {},
   "source": [
    "------"
   ]
  },
  {
   "cell_type": "markdown",
   "metadata": {},
   "source": [
    "# 4- String ifadeyi split() ile bölme sorusu"
   ]
  },
  {
   "cell_type": "markdown",
   "metadata": {},
   "source": [
    "![](2023-01-15-23-53-16.png)"
   ]
  },
  {
   "cell_type": "code",
   "execution_count": 7,
   "metadata": {},
   "outputs": [
    {
     "name": "stdout",
     "output_type": "stream",
     "text": [
      "name = Sedat \n",
      " age =  30 \n",
      "job =  data scientist\n"
     ]
    }
   ],
   "source": [
    "user = 'Sedat, 30, data scientist'\n",
    "\n",
    "user_info = user.split(',')\n",
    "\n",
    "print(f'name = {user_info[0]} \\n age = {user_info[1]} \\njob = {user_info[2]}')   \n",
    "\n",
    " # \\n den sonraki gelen ifade ile arasina bosluk koyarsan cikti olarakta bosluklu cikar, age bir tane Einrückung'u var\n"
   ]
  },
  {
   "cell_type": "markdown",
   "metadata": {},
   "source": [
    "-----"
   ]
  },
  {
   "cell_type": "markdown",
   "metadata": {},
   "source": [
    "---------"
   ]
  },
  {
   "cell_type": "markdown",
   "metadata": {},
   "source": [
    "# 5- if ile ilgili bir soru"
   ]
  },
  {
   "cell_type": "markdown",
   "metadata": {},
   "source": [
    "![](2023-01-16-00-11-27.png)"
   ]
  },
  {
   "cell_type": "code",
   "execution_count": 14,
   "metadata": {},
   "outputs": [
    {
     "name": "stdout",
     "output_type": "stream",
     "text": [
      "True\n"
     ]
    }
   ],
   "source": [
    "input1 = 16\n",
    "input2 = 6\n",
    "\n",
    "\n",
    "if input1 == input2  or abs(input1-input2)%5 == 0 :\n",
    "    print('True')\n",
    "else:\n",
    "    print('False')    \n",
    "\n",
    "\n",
    "# abs mitlak deger katiyor ama koymasakta % islemi eksi isaretinden etkilenmiyor    "
   ]
  },
  {
   "cell_type": "code",
   "execution_count": 15,
   "metadata": {},
   "outputs": [
    {
     "name": "stdout",
     "output_type": "stream",
     "text": [
      "True\n"
     ]
    }
   ],
   "source": [
    "input1 = 16\n",
    "input2 = 6\n",
    "\n",
    "\n",
    "print(input1 == input2  or abs(input1-input2)%5 == 0)\n",
    "\n",
    "\n",
    "# busekilde de print icinde yazilan degerlerden Treu ve False ciktilari alabiliyruz"
   ]
  },
  {
   "cell_type": "markdown",
   "metadata": {},
   "source": [
    "------"
   ]
  },
  {
   "cell_type": "markdown",
   "metadata": {},
   "source": [
    "------"
   ]
  },
  {
   "cell_type": "code",
   "execution_count": null,
   "metadata": {},
   "outputs": [],
   "source": []
  },
  {
   "cell_type": "code",
   "execution_count": null,
   "metadata": {},
   "outputs": [],
   "source": []
  }
 ],
 "metadata": {
  "kernelspec": {
   "display_name": "Python 3.11.0 64-bit",
   "language": "python",
   "name": "python3"
  },
  "language_info": {
   "codemirror_mode": {
    "name": "ipython",
    "version": 3
   },
   "file_extension": ".py",
   "mimetype": "text/x-python",
   "name": "python",
   "nbconvert_exporter": "python",
   "pygments_lexer": "ipython3",
   "version": "3.11.0"
  },
  "orig_nbformat": 4,
  "vscode": {
   "interpreter": {
    "hash": "aee8b7b246df8f9039afb4144a1f6fd8d2ca17a180786b69acc140d282b71a49"
   }
  }
 },
 "nbformat": 4,
 "nbformat_minor": 2
}
