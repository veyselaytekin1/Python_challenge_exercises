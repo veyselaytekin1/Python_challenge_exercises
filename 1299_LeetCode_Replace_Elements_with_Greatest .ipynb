{
 "cells": [
  {
   "cell_type": "markdown",
   "metadata": {},
   "source": [
    "![](2022-10-25-10-02-52.png)"
   ]
  },
  {
   "cell_type": "code",
   "execution_count": null,
   "metadata": {},
   "outputs": [],
   "source": []
  },
  {
   "cell_type": "code",
   "execution_count": null,
   "metadata": {},
   "outputs": [],
   "source": []
  },
  {
   "cell_type": "code",
   "execution_count": 1,
   "metadata": {},
   "outputs": [
    {
     "name": "stdout",
     "output_type": "stream",
     "text": [
      "[18, 6, 6, 6, 1, -1]\n"
     ]
    }
   ],
   "source": [
    "\n",
    "\n",
    "new_arr = []\n",
    "\n",
    "for counter,value in enumerate(arr):\n",
    "    for x in arr[counter+1:]:  # arr[counter+1:] that get the value,after the selected element\n",
    "        value = max(arr[counter+1:])    #I assing the max value to my value\n",
    "    new_arr.append(value)\n",
    "new_arr[-1]=-1   \n",
    "\n",
    "print(new_arr)\n",
    "\n",
    "\n",
    "\n",
    "\n",
    "# burda önce ilk elemani enumerate fonksiyonu ile yakaladim,\n",
    "#sonra o elemanin saginda kalanlari arr[counter+1:]  bu sekilde yakaladim,\n",
    "# ve elime aldigim ilk degeri bu elemanlarin max olan degerine atadim\n",
    "#en son degeride -1 olarak atadim cünkü soruda öyle diyordu\n",
    "\n",
    "\n",
    "\n",
    "arr = [17,18,5,4,6,1]"
   ]
  },
  {
   "cell_type": "code",
   "execution_count": 2,
   "metadata": {},
   "outputs": [
    {
     "data": {
      "text/plain": [
       "[]"
      ]
     },
     "execution_count": 2,
     "metadata": {},
     "output_type": "execute_result"
    }
   ],
   "source": [
    "\n"
   ]
  },
  {
   "cell_type": "code",
   "execution_count": null,
   "metadata": {},
   "outputs": [],
   "source": []
  },
  {
   "cell_type": "code",
   "execution_count": 4,
   "metadata": {},
   "outputs": [
    {
     "data": {
      "text/plain": [
       "18"
      ]
     },
     "execution_count": 4,
     "metadata": {},
     "output_type": "execute_result"
    }
   ],
   "source": [
    "arr = [17,18,5,4,6,1]\n",
    "max(arr)\n",
    "\n",
    "#to find the max value in a list"
   ]
  },
  {
   "cell_type": "code",
   "execution_count": null,
   "metadata": {},
   "outputs": [],
   "source": []
  }
 ],
 "metadata": {
  "kernelspec": {
   "display_name": "Python 3.10.7 64-bit",
   "language": "python",
   "name": "python3"
  },
  "language_info": {
   "codemirror_mode": {
    "name": "ipython",
    "version": 3
   },
   "file_extension": ".py",
   "mimetype": "text/x-python",
   "name": "python",
   "nbconvert_exporter": "python",
   "pygments_lexer": "ipython3",
   "version": "3.11.0"
  },
  "orig_nbformat": 4,
  "vscode": {
   "interpreter": {
    "hash": "aee8b7b246df8f9039afb4144a1f6fd8d2ca17a180786b69acc140d282b71a49"
   }
  }
 },
 "nbformat": 4,
 "nbformat_minor": 2
}
