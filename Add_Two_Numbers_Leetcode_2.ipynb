{
 "cells": [
  {
   "cell_type": "code",
   "execution_count": null,
   "id": "3328e3f3",
   "metadata": {},
   "outputs": [],
   "source": [
    "#Question  Add Two Numbers\n",
    "#You are given two non-empty linked lists representing two non-negative integers. \n",
    "#The digits are stored in reverse order, and each of their nodes contains a single digit. \n",
    "#Add the two numbers and return the sum as a linked list.\n",
    "#You may assume the two numbers do not contain any leading zero, except the number 0 itself.\n",
    "\n",
    "#https://leetcode.com/problems/add-two-numbers/"
   ]
  }
 ],
 "metadata": {
  "kernelspec": {
   "display_name": "Python 3 (ipykernel)",
   "language": "python",
   "name": "python3"
  },
  "language_info": {
   "codemirror_mode": {
    "name": "ipython",
    "version": 3
   },
   "file_extension": ".py",
   "mimetype": "text/x-python",
   "name": "python",
   "nbconvert_exporter": "python",
   "pygments_lexer": "ipython3",
   "version": "3.9.12"
  }
 },
 "nbformat": 4,
 "nbformat_minor": 5
}
