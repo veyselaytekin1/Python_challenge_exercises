{
 "cells": [
  {
   "cell_type": "code",
   "execution_count": null,
   "id": "466d6dd9",
   "metadata": {},
   "outputs": [],
   "source": [
    "#Question  Add Two Numbers\n",
    "#You are given two non-empty linked lists representing two non-negative integers. \n",
    "#The digits are stored in reverse order, and each of their nodes contains a single digit. \n",
    "#Add the two numbers and return the sum as a linked list.\n",
    "#You may assume the two numbers do not contain any leading zero, except the number 0 itself.\n",
    "\n",
    "\n",
    "\n",
    "#Input: l1 = [2,4,3], l2 = [5,6,4]\n",
    "#Output: [7,0,8]\n",
    "#Explanation: 342 + 465 = 807.\n",
    "\n",
    "#https://leetcode.com/problems/add-two-numbers/"
   ]
  },
  {
   "cell_type": "code",
   "execution_count": 1,
   "id": "ba29d77e",
   "metadata": {},
   "outputs": [
    {
     "name": "stdout",
     "output_type": "stream",
     "text": [
      "7\n",
      "10\n",
      "7\n"
     ]
    }
   ],
   "source": [
    "#Solituon\n",
    "l1 = [2,4,3]\n",
    "l2 = [5,6,4]\n",
    "\n",
    "for index1, value1 in enumerate(l1):\n",
    "    for index2, value2 in enumerate(l2):\n",
    "        if index1 == index2:\n",
    "            new_value = value1 + value2\n",
    "            print(new_value)\n",
    "            \n",
    "        \n",
    "        \n",
    "    "
   ]
  },
  {
   "cell_type": "code",
   "execution_count": null,
   "id": "8a7cd9b4",
   "metadata": {},
   "outputs": [],
   "source": []
  }
 ],
 "metadata": {
  "kernelspec": {
   "display_name": "Python 3 (ipykernel)",
   "language": "python",
   "name": "python3"
  },
  "language_info": {
   "codemirror_mode": {
    "name": "ipython",
    "version": 3
   },
   "file_extension": ".py",
   "mimetype": "text/x-python",
   "name": "python",
   "nbconvert_exporter": "python",
   "pygments_lexer": "ipython3",
   "version": "3.9.12"
  }
 },
 "nbformat": 4,
 "nbformat_minor": 5
}
