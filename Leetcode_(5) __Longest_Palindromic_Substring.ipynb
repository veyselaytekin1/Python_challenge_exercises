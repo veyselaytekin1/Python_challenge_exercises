{
 "cells": [
  {
   "cell_type": "code",
   "execution_count": null,
   "id": "905da28f",
   "metadata": {},
   "outputs": [],
   "source": [
    "#Given a string s, return the longest palindromic substring in s.\n",
    "\n",
    "#Example 1:\n",
    "\n",
    "#Input: s = \"babad\"\n",
    "#Output: \"bab\"\n",
    "#Explanation: \"aba\" is also a valid answer."
   ]
  },
  {
   "cell_type": "code",
   "execution_count": null,
   "id": "851ba257",
   "metadata": {},
   "outputs": [],
   "source": []
  },
  {
   "cell_type": "code",
   "execution_count": null,
   "id": "ad008829",
   "metadata": {},
   "outputs": [],
   "source": []
  }
 ],
 "metadata": {
  "kernelspec": {
   "display_name": "Python 3.10.7 64-bit",
   "language": "python",
   "name": "python3"
  },
  "language_info": {
   "codemirror_mode": {
    "name": "ipython",
    "version": 3
   },
   "file_extension": ".py",
   "mimetype": "text/x-python",
   "name": "python",
   "nbconvert_exporter": "python",
   "pygments_lexer": "ipython3",
   "version": "3.10.7"
  },
  "vscode": {
   "interpreter": {
    "hash": "aee8b7b246df8f9039afb4144a1f6fd8d2ca17a180786b69acc140d282b71a49"
   }
  }
 },
 "nbformat": 4,
 "nbformat_minor": 5
}
